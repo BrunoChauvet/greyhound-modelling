{
 "cells": [
  {
   "cell_type": "code",
   "execution_count": 1,
   "id": "fa69ee55",
   "metadata": {},
   "outputs": [
    {
     "data": {
      "text/plain": [
       "True"
      ]
     },
     "execution_count": 1,
     "metadata": {},
     "output_type": "execute_result"
    }
   ],
   "source": [
    "import os\n",
    "import sys\n",
    "\n",
    "# Allow imports from src folder\n",
    "module_path = os.path.abspath(os.path.join('../src'))\n",
    "if module_path not in sys.path:\n",
    "    sys.path.append(module_path)\n",
    "\n",
    "import betfairlightweight\n",
    "from betfairlightweight import filters\n",
    "from datetime import datetime, timedelta\n",
    "from dateutil import tz\n",
    "from pandas.tseries.offsets import MonthEnd\n",
    "\n",
    "import math\n",
    "import numpy as np\n",
    "import pandas as pd\n",
    "import fasttrack_dataset\n",
    "\n",
    "from sklearn.preprocessing import MinMaxScaler\n",
    "from sklearn.preprocessing import normalize\n",
    "\n",
    "from matplotlib import pyplot\n",
    "from matplotlib.pyplot import figure\n",
    "\n",
    "from dotenv import load_dotenv\n",
    "load_dotenv()"
   ]
  },
  {
   "cell_type": "code",
   "execution_count": 2,
   "id": "5ddaa221",
   "metadata": {},
   "outputs": [
    {
     "name": "stdout",
     "output_type": "stream",
     "text": [
      "Valid Security Key\n",
      "Loading data from 2017-12-01 to 2017-12-31\n",
      "Loading data from 2018-01-01 to 2018-01-31\n",
      "Loading data from 2018-02-01 to 2018-02-28\n",
      "Loading data from 2018-03-01 to 2018-03-31\n",
      "Loading data from 2018-04-01 to 2018-04-30\n",
      "Loading data from 2018-05-01 to 2018-05-31\n"
     ]
    },
    {
     "name": "stderr",
     "output_type": "stream",
     "text": [
      "/home/bruno/.local/lib/python3.6/site-packages/IPython/core/interactiveshell.py:3263: DtypeWarning: Columns (10) have mixed types.Specify dtype option on import or set low_memory=False.\n",
      "  if (await self.run_code(code, result,  async_=asy)):\n"
     ]
    },
    {
     "name": "stdout",
     "output_type": "stream",
     "text": [
      "Loading data from 2018-06-01 to 2018-06-30\n",
      "Loading data from 2018-07-01 to 2018-07-31\n",
      "Loading data from 2018-08-01 to 2018-08-31\n",
      "Loading data from 2018-09-01 to 2018-09-30\n",
      "Loading data from 2018-10-01 to 2018-10-31\n",
      "Loading data from 2018-11-01 to 2018-11-30\n",
      "Loading data from 2018-12-01 to 2018-12-31\n",
      "Loading data from 2019-01-01 to 2019-01-31\n",
      "Loading data from 2019-02-01 to 2019-02-28\n",
      "Loading data from 2019-03-01 to 2019-03-31\n",
      "Loading data from 2019-04-01 to 2019-04-30\n",
      "Loading data from 2019-05-01 to 2019-05-31\n",
      "Loading data from 2019-06-01 to 2019-06-30\n",
      "Loading data from 2019-07-01 to 2019-07-31\n",
      "Loading data from 2019-08-01 to 2019-08-31\n",
      "Loading data from 2019-09-01 to 2019-09-30\n",
      "Loading data from 2019-10-01 to 2019-10-31\n",
      "Loading data from 2019-11-01 to 2019-11-30\n",
      "Loading data from 2019-12-01 to 2019-12-31\n",
      "Loading data from 2020-01-01 to 2020-01-31\n",
      "Loading data from 2020-02-01 to 2020-02-29\n",
      "Loading data from 2020-03-01 to 2020-03-31\n",
      "Loading data from 2020-04-01 to 2020-04-30\n",
      "Loading data from 2020-05-01 to 2020-05-31\n",
      "Loading data from 2020-06-01 to 2020-06-30\n",
      "Loading data from 2020-07-01 to 2020-07-31\n",
      "Loading data from 2020-08-01 to 2020-08-31\n",
      "Loading data from 2020-09-01 to 2020-09-30\n",
      "Loading data from 2020-10-01 to 2020-10-31\n",
      "Loading data from 2020-11-01 to 2020-11-30\n",
      "Loading data from 2020-12-01 to 2020-12-31\n",
      "Loading data from 2021-01-01 to 2021-01-31\n",
      "Loading data from 2021-02-01 to 2021-02-28\n",
      "Loading data from 2021-03-01 to 2021-03-31\n",
      "Loading data from 2021-04-01 to 2021-04-30\n",
      "Loading data from 2021-05-01 to 2021-05-31\n"
     ]
    },
    {
     "name": "stderr",
     "output_type": "stream",
     "text": [
      "/home/bruno/.local/lib/python3.6/site-packages/IPython/core/interactiveshell.py:3263: DtypeWarning: Columns (10,12) have mixed types.Specify dtype option on import or set low_memory=False.\n",
      "  if (await self.run_code(code, result,  async_=asy)):\n"
     ]
    },
    {
     "name": "stdout",
     "output_type": "stream",
     "text": [
      "Loading data from 2021-06-01 to 2021-06-30\n",
      "Loading data from 2021-07-01 to 2021-07-31\n"
     ]
    },
    {
     "data": {
      "text/html": [
       "<div>\n",
       "<style scoped>\n",
       "    .dataframe tbody tr th:only-of-type {\n",
       "        vertical-align: middle;\n",
       "    }\n",
       "\n",
       "    .dataframe tbody tr th {\n",
       "        vertical-align: top;\n",
       "    }\n",
       "\n",
       "    .dataframe thead th {\n",
       "        text-align: right;\n",
       "    }\n",
       "</style>\n",
       "<table border=\"1\" class=\"dataframe\">\n",
       "  <thead>\n",
       "    <tr style=\"text-align: right;\">\n",
       "      <th></th>\n",
       "      <th>@id</th>\n",
       "      <th>RaceNum</th>\n",
       "      <th>RaceName</th>\n",
       "      <th>RaceTime</th>\n",
       "      <th>Distance</th>\n",
       "      <th>RaceGrade</th>\n",
       "      <th>Track</th>\n",
       "      <th>date</th>\n",
       "    </tr>\n",
       "  </thead>\n",
       "  <tbody>\n",
       "    <tr>\n",
       "      <th>0</th>\n",
       "      <td>278896185</td>\n",
       "      <td>1</td>\n",
       "      <td>TRIPLE M BENDIGO 93.5</td>\n",
       "      <td>02:54PM</td>\n",
       "      <td>425m</td>\n",
       "      <td>Grade 6</td>\n",
       "      <td>Bendigo</td>\n",
       "      <td>01 Dec 17</td>\n",
       "    </tr>\n",
       "    <tr>\n",
       "      <th>1</th>\n",
       "      <td>278896189</td>\n",
       "      <td>2</td>\n",
       "      <td>GOLDEN CITY CONCRETE PUMPING</td>\n",
       "      <td>03:17PM</td>\n",
       "      <td>500m</td>\n",
       "      <td>Mixed 6/7</td>\n",
       "      <td>Bendigo</td>\n",
       "      <td>01 Dec 17</td>\n",
       "    </tr>\n",
       "    <tr>\n",
       "      <th>2</th>\n",
       "      <td>275589809</td>\n",
       "      <td>3</td>\n",
       "      <td>RAILWAY STATION HOTEL FINAL</td>\n",
       "      <td>03:38PM</td>\n",
       "      <td>500m</td>\n",
       "      <td>Mixed 6/7 Final</td>\n",
       "      <td>Bendigo</td>\n",
       "      <td>01 Dec 17</td>\n",
       "    </tr>\n",
       "    <tr>\n",
       "      <th>3</th>\n",
       "      <td>278896183</td>\n",
       "      <td>4</td>\n",
       "      <td>MCIVOR RD VETERINARY CLINIC</td>\n",
       "      <td>03:58PM</td>\n",
       "      <td>425m</td>\n",
       "      <td>Grade 5</td>\n",
       "      <td>Bendigo</td>\n",
       "      <td>01 Dec 17</td>\n",
       "    </tr>\n",
       "    <tr>\n",
       "      <th>4</th>\n",
       "      <td>278896179</td>\n",
       "      <td>5</td>\n",
       "      <td>GRV VIC BRED SERIES HT1</td>\n",
       "      <td>04:24PM</td>\n",
       "      <td>425m</td>\n",
       "      <td>Grade 5 Heat</td>\n",
       "      <td>Bendigo</td>\n",
       "      <td>01 Dec 17</td>\n",
       "    </tr>\n",
       "  </tbody>\n",
       "</table>\n",
       "</div>"
      ],
      "text/plain": [
       "         @id  RaceNum                      RaceName RaceTime Distance  \\\n",
       "0  278896185        1         TRIPLE M BENDIGO 93.5  02:54PM     425m   \n",
       "1  278896189        2  GOLDEN CITY CONCRETE PUMPING  03:17PM     500m   \n",
       "2  275589809        3   RAILWAY STATION HOTEL FINAL  03:38PM     500m   \n",
       "3  278896183        4   MCIVOR RD VETERINARY CLINIC  03:58PM     425m   \n",
       "4  278896179        5       GRV VIC BRED SERIES HT1  04:24PM     425m   \n",
       "\n",
       "         RaceGrade    Track       date  \n",
       "0          Grade 6  Bendigo  01 Dec 17  \n",
       "1        Mixed 6/7  Bendigo  01 Dec 17  \n",
       "2  Mixed 6/7 Final  Bendigo  01 Dec 17  \n",
       "3          Grade 5  Bendigo  01 Dec 17  \n",
       "4     Grade 5 Heat  Bendigo  01 Dec 17  "
      ]
     },
     "metadata": {},
     "output_type": "display_data"
    }
   ],
   "source": [
    "# Import FastTrack dataset\n",
    "race_details, dog_results = fasttrack_dataset.load(exclude_states=['NZ'])"
   ]
  },
  {
   "cell_type": "code",
   "execution_count": null,
   "id": "7f8a7436",
   "metadata": {},
   "outputs": [],
   "source": []
  }
 ],
 "metadata": {
  "kernelspec": {
   "display_name": "Python 3 (ipykernel)",
   "language": "python",
   "name": "python3"
  },
  "language_info": {
   "codemirror_mode": {
    "name": "ipython",
    "version": 3
   },
   "file_extension": ".py",
   "mimetype": "text/x-python",
   "name": "python",
   "nbconvert_exporter": "python",
   "pygments_lexer": "ipython3",
   "version": "3.8.10"
  }
 },
 "nbformat": 4,
 "nbformat_minor": 5
}
